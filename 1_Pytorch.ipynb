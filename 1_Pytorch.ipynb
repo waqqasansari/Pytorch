{
  "nbformat": 4,
  "nbformat_minor": 0,
  "metadata": {
    "colab": {
      "name": "1.Pytorch.ipynb",
      "provenance": [],
      "collapsed_sections": [],
      "authorship_tag": "ABX9TyNyijRLFScx1IwofL6Jyelg",
      "include_colab_link": true
    },
    "kernelspec": {
      "name": "python3",
      "display_name": "Python 3"
    },
    "accelerator": "GPU"
  },
  "cells": [
    {
      "cell_type": "markdown",
      "metadata": {
        "id": "view-in-github",
        "colab_type": "text"
      },
      "source": [
        "<a href=\"https://colab.research.google.com/github/waqqasansari/lets_Play_with_PyTorch/blob/master/1_Pytorch.ipynb\" target=\"_parent\"><img src=\"https://colab.research.google.com/assets/colab-badge.svg\" alt=\"Open In Colab\"/></a>"
      ]
    },
    {
      "cell_type": "code",
      "metadata": {
        "id": "29ntY86n2Lbt",
        "colab_type": "code",
        "colab": {}
      },
      "source": [
        "import torch\n",
        "import numpy as np"
      ],
      "execution_count": 0,
      "outputs": []
    },
    {
      "cell_type": "code",
      "metadata": {
        "id": "OoMbyKa5HFQI",
        "colab_type": "code",
        "colab": {
          "base_uri": "https://localhost:8080/",
          "height": 51
        },
        "outputId": "805c466f-6bdc-4849-b581-c7e20dbc19be"
      },
      "source": [
        "#multiplying two numpy array\n",
        "\n",
        "a = np.array([2,3])\n",
        "b = np.array([6,7])\n",
        "\n",
        "N = a * b\n",
        "print(N)\n",
        "print(type(N)) #print the type of N"
      ],
      "execution_count": 8,
      "outputs": [
        {
          "output_type": "stream",
          "text": [
            "[12 21]\n",
            "<class 'numpy.ndarray'>\n"
          ],
          "name": "stdout"
        }
      ]
    },
    {
      "cell_type": "code",
      "metadata": {
        "id": "PmpJH5kzHYNY",
        "colab_type": "code",
        "colab": {
          "base_uri": "https://localhost:8080/",
          "height": 51
        },
        "outputId": "918c1d0c-1403-41c4-968e-f4cd5c10ab15"
      },
      "source": [
        "#Same operation in Pytorch tensors\n",
        "\n",
        "aT = torch.tensor([2,3])\n",
        "bT = torch.tensor([6,7])\n",
        "\n",
        "A = aT * bT\n",
        "print(A)\n",
        "print(type(A))  #print the type of A"
      ],
      "execution_count": 7,
      "outputs": [
        {
          "output_type": "stream",
          "text": [
            "tensor([12, 21])\n",
            "<class 'torch.Tensor'>\n"
          ],
          "name": "stdout"
        }
      ]
    },
    {
      "cell_type": "code",
      "metadata": {
        "id": "VCHM7cUkIEt7",
        "colab_type": "code",
        "colab": {
          "base_uri": "https://localhost:8080/",
          "height": 34
        },
        "outputId": "4b433cdc-ad41-4519-d405-fee8a71d3c9c"
      },
      "source": [
        "torch.tensor([1.2, 3]).dtype #Automatic float tensor intialization\n",
        "\n",
        "torch.set_default_dtype(torch.float64)\n",
        "\n",
        "torch.tensor([1.2, 3]).dtype"
      ],
      "execution_count": 16,
      "outputs": [
        {
          "output_type": "execute_result",
          "data": {
            "text/plain": [
              "torch.float64"
            ]
          },
          "metadata": {
            "tags": []
          },
          "execution_count": 16
        }
      ]
    },
    {
      "cell_type": "code",
      "metadata": {
        "id": "Z1XfDoJqJdov",
        "colab_type": "code",
        "colab": {
          "base_uri": "https://localhost:8080/",
          "height": 34
        },
        "outputId": "5f51abcc-c864-4653-e802-0a8e82e2572d"
      },
      "source": [
        "#convert tensor to numpy\n",
        "z = torch.tensor([3,4])\n",
        "\n",
        "z.numpy()"
      ],
      "execution_count": 17,
      "outputs": [
        {
          "output_type": "execute_result",
          "data": {
            "text/plain": [
              "array([3, 4])"
            ]
          },
          "metadata": {
            "tags": []
          },
          "execution_count": 17
        }
      ]
    },
    {
      "cell_type": "code",
      "metadata": {
        "id": "eXomdwjLKxmz",
        "colab_type": "code",
        "colab": {
          "base_uri": "https://localhost:8080/",
          "height": 34
        },
        "outputId": "c4a38519-5dd8-46e8-9157-482a55716530"
      },
      "source": [
        "#convert numpy to tensor\n",
        "zn = np.array([3,4])\n",
        "\n",
        "torch.from_numpy(a)"
      ],
      "execution_count": 19,
      "outputs": [
        {
          "output_type": "execute_result",
          "data": {
            "text/plain": [
              "tensor([2, 3])"
            ]
          },
          "metadata": {
            "tags": []
          },
          "execution_count": 19
        }
      ]
    },
    {
      "cell_type": "code",
      "metadata": {
        "id": "F2bHa5ulLHyK",
        "colab_type": "code",
        "colab": {
          "base_uri": "https://localhost:8080/",
          "height": 68
        },
        "outputId": "157e1bd1-f830-4669-8c6a-5a9cd82cbf60"
      },
      "source": [
        "yt = torch.tensor([[2,3],[4,5]])\n",
        "print(yt)\n",
        "print(yt.size()) #size of tensor"
      ],
      "execution_count": 35,
      "outputs": [
        {
          "output_type": "stream",
          "text": [
            "tensor([[2, 3],\n",
            "        [4, 5]])\n",
            "torch.Size([2, 2])\n"
          ],
          "name": "stdout"
        }
      ]
    },
    {
      "cell_type": "code",
      "metadata": {
        "id": "w9c8Brd5MHPs",
        "colab_type": "code",
        "colab": {
          "base_uri": "https://localhost:8080/",
          "height": 51
        },
        "outputId": "34f45c46-3cf7-4930-cd32-298c1c956c02"
      },
      "source": [
        "#convert the tensors into floats\n",
        "torch.FloatTensor([[2,3],[4,5]])"
      ],
      "execution_count": 22,
      "outputs": [
        {
          "output_type": "execute_result",
          "data": {
            "text/plain": [
              "tensor([[2., 3.],\n",
              "        [4., 5.]], dtype=torch.float32)"
            ]
          },
          "metadata": {
            "tags": []
          },
          "execution_count": 22
        }
      ]
    },
    {
      "cell_type": "code",
      "metadata": {
        "id": "d--17F_6MXco",
        "colab_type": "code",
        "colab": {
          "base_uri": "https://localhost:8080/",
          "height": 85
        },
        "outputId": "54514619-4c66-4501-dda9-6cacb0d8667f"
      },
      "source": [
        "#create a random tensor\n",
        "torch.rand(4,5)"
      ],
      "execution_count": 23,
      "outputs": [
        {
          "output_type": "execute_result",
          "data": {
            "text/plain": [
              "tensor([[0.9246, 0.3507, 0.2466, 0.5519, 0.8590],\n",
              "        [0.9447, 0.4610, 0.3296, 0.6285, 0.4968],\n",
              "        [0.8406, 0.0467, 0.1810, 0.7030, 0.2316],\n",
              "        [0.1711, 0.5076, 0.1972, 0.4680, 0.4881]])"
            ]
          },
          "metadata": {
            "tags": []
          },
          "execution_count": 23
        }
      ]
    },
    {
      "cell_type": "code",
      "metadata": {
        "id": "iT96FjY6MrYd",
        "colab_type": "code",
        "colab": {
          "base_uri": "https://localhost:8080/",
          "height": 85
        },
        "outputId": "03b43452-5027-457a-8c2a-f468fba4ad4b"
      },
      "source": [
        "#create a tensor of ones\n",
        "torch.ones(4,5)"
      ],
      "execution_count": 24,
      "outputs": [
        {
          "output_type": "execute_result",
          "data": {
            "text/plain": [
              "tensor([[1., 1., 1., 1., 1.],\n",
              "        [1., 1., 1., 1., 1.],\n",
              "        [1., 1., 1., 1., 1.],\n",
              "        [1., 1., 1., 1., 1.]])"
            ]
          },
          "metadata": {
            "tags": []
          },
          "execution_count": 24
        }
      ]
    },
    {
      "cell_type": "code",
      "metadata": {
        "id": "WDqQJxUSNHBJ",
        "colab_type": "code",
        "colab": {
          "base_uri": "https://localhost:8080/",
          "height": 34
        },
        "outputId": "ee404f2b-b25d-439b-bbed-b657a5310250"
      },
      "source": [
        "zn = torch.tensor([[3,4],[5,6]])\n",
        "print(f'sum: {zn.sum()}')"
      ],
      "execution_count": 27,
      "outputs": [
        {
          "output_type": "stream",
          "text": [
            "sum: 18\n"
          ],
          "name": "stdout"
        }
      ]
    },
    {
      "cell_type": "code",
      "metadata": {
        "id": "LvydTdS9OaRa",
        "colab_type": "code",
        "colab": {
          "base_uri": "https://localhost:8080/",
          "height": 102
        },
        "outputId": "e723d996-5a1f-4be5-a2c6-131c7f77d18a"
      },
      "source": [
        "xc = torch.tensor([[3,4],[5,6]])\n",
        "print(xc)\n",
        "print(\"---+++++------++++++------\")\n",
        "print(xc.t()) #tensor transpose "
      ],
      "execution_count": 32,
      "outputs": [
        {
          "output_type": "stream",
          "text": [
            "tensor([[3, 4],\n",
            "        [5, 6]])\n",
            "---+++++------++++++------\n",
            "tensor([[3, 5],\n",
            "        [4, 6]])\n"
          ],
          "name": "stdout"
        }
      ]
    },
    {
      "cell_type": "code",
      "metadata": {
        "id": "5qwSFJLPPkKa",
        "colab_type": "code",
        "colab": {
          "base_uri": "https://localhost:8080/",
          "height": 51
        },
        "outputId": "2d55b716-d776-4c72-885b-093e64a20c44"
      },
      "source": [
        "ay = torch.tensor([[6,4],[8,4]])\n",
        "\n",
        "zt = ay.add(xc) #adding two tensors\n",
        "\n",
        "zt"
      ],
      "execution_count": 37,
      "outputs": [
        {
          "output_type": "execute_result",
          "data": {
            "text/plain": [
              "tensor([[ 9,  8],\n",
              "        [13, 10]])"
            ]
          },
          "metadata": {
            "tags": []
          },
          "execution_count": 37
        }
      ]
    },
    {
      "cell_type": "code",
      "metadata": {
        "id": "MTxIxDXDTHku",
        "colab_type": "code",
        "colab": {
          "base_uri": "https://localhost:8080/",
          "height": 51
        },
        "outputId": "36e89ef1-e710-4780-a1e0-92972b1f909d"
      },
      "source": [
        "#in place addition\n",
        "ay.add_(xc)\n",
        "\n",
        "ay"
      ],
      "execution_count": 38,
      "outputs": [
        {
          "output_type": "execute_result",
          "data": {
            "text/plain": [
              "tensor([[ 9,  8],\n",
              "        [13, 10]])"
            ]
          },
          "metadata": {
            "tags": []
          },
          "execution_count": 38
        }
      ]
    },
    {
      "cell_type": "code",
      "metadata": {
        "id": "sKtd0HIiTj8X",
        "colab_type": "code",
        "colab": {
          "base_uri": "https://localhost:8080/",
          "height": 34
        },
        "outputId": "e1d1c381-4ada-4522-9031-62cc18e7d383"
      },
      "source": [
        "#Run pytorch on GPU\n",
        "device = torch.device(\"cuda\") if torch.cuda.is_available() else torch.device(\"cpu\")\n",
        "device"
      ],
      "execution_count": 39,
      "outputs": [
        {
          "output_type": "execute_result",
          "data": {
            "text/plain": [
              "device(type='cuda')"
            ]
          },
          "metadata": {
            "tags": []
          },
          "execution_count": 39
        }
      ]
    },
    {
      "cell_type": "code",
      "metadata": {
        "id": "Rq6yFu_ZWEi7",
        "colab_type": "code",
        "colab": {}
      },
      "source": [
        ""
      ],
      "execution_count": 0,
      "outputs": []
    }
  ]
}