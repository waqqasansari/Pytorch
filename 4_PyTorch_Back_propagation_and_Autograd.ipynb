{
  "nbformat": 4,
  "nbformat_minor": 0,
  "metadata": {
    "colab": {
      "name": "4_PyTorch_Back_propagation and Autograd.ipynb",
      "provenance": [],
      "collapsed_sections": [],
      "authorship_tag": "ABX9TyOBfT4P9t2qv3QMW7xyNNAN",
      "include_colab_link": true
    },
    "kernelspec": {
      "name": "python3",
      "display_name": "Python 3"
    }
  },
  "cells": [
    {
      "cell_type": "markdown",
      "metadata": {
        "id": "view-in-github",
        "colab_type": "text"
      },
      "source": [
        "<a href=\"https://colab.research.google.com/github/waqqasansari/lets_Play_with_PyTorch/blob/master/4_PyTorch_Back_propagation_and_Autograd.ipynb\" target=\"_parent\"><img src=\"https://colab.research.google.com/assets/colab-badge.svg\" alt=\"Open In Colab\"/></a>"
      ]
    },
    {
      "cell_type": "code",
      "metadata": {
        "id": "AlsetpDcFX2T",
        "colab_type": "code",
        "colab": {}
      },
      "source": [
        "import torch"
      ],
      "execution_count": 0,
      "outputs": []
    },
    {
      "cell_type": "code",
      "metadata": {
        "id": "V_uzDQWfI8f4",
        "colab_type": "code",
        "colab": {
          "base_uri": "https://localhost:8080/",
          "height": 763
        },
        "outputId": "e732d950-5259-40b5-8862-6d498ec376fd"
      },
      "source": [
        "x_data = [1.0, 2.0, 3.0]\n",
        "y_data = [2.0, 4.0, 6.0]\n",
        "\n",
        "w = torch.tensor([1.0], requires_grad=True)\n",
        "\n",
        "# our model for the forward pass\n",
        "def forward(x):\n",
        "    return x * w\n",
        "\n",
        "\n",
        "# Loss function\n",
        "def loss(x, y):\n",
        "    y_pred = forward(x)\n",
        "    return ((y_pred - y)**2)\n",
        "\n",
        "#define gradient descent\n",
        "def gradient(x, y):\n",
        "  return 2 * x * (x * w - y)\n",
        "\n",
        "print(\"predict before training\", 4, forward(4).item())\n",
        "\n",
        "# Training loop\n",
        "for epoch in range(10):\n",
        "    for x_val, y_val in zip(x_data, y_data):\n",
        "        y_pred = forward(x_val) # 1) Forward pass\n",
        "        l = loss(y_pred, y_val) # 2) Compute loss\n",
        "        l.backward() # 3) Back propagation to update weights\n",
        "        print(\"\\tgrad: \", x_val, y_val, w.grad.item())\n",
        "        w.data = w.data - 0.01 * w.grad.item()\n",
        "\n",
        "        # Manually zero the gradients after updating weights\n",
        "        w.grad.data.zero_()\n",
        "\n",
        "    print(f\"Epoch: {epoch} | Loss: {l.item()}\")\n",
        "\n",
        "# After training\n",
        "print(\"Prediction (after training)\",  4, forward(4).item())"
      ],
      "execution_count": 3,
      "outputs": [
        {
          "output_type": "stream",
          "text": [
            "predict before training 4 4.0\n",
            "\tgrad:  1.0 2.0 -4.0\n",
            "\tgrad:  2.0 4.0 -15.28217601776123\n",
            "\tgrad:  3.0 6.0 -24.784862518310547\n",
            "Epoch: 0 | Loss: 2.9981918334960938\n",
            "\tgrad:  1.0 2.0 0.4352611303329468\n",
            "\tgrad:  2.0 4.0 1.4480102062225342\n",
            "\tgrad:  3.0 6.0 1.1067644357681274\n",
            "Epoch: 1 | Loss: 0.004207730293273926\n",
            "\tgrad:  1.0 2.0 -0.054894957691431046\n",
            "\tgrad:  2.0 4.0 -0.18468163907527924\n",
            "\tgrad:  3.0 6.0 -0.15071865916252136\n",
            "Epoch: 2 | Loss: 7.899241609266028e-05\n",
            "\tgrad:  1.0 2.0 0.007354147266596556\n",
            "\tgrad:  2.0 4.0 0.024704117327928543\n",
            "\tgrad:  3.0 6.0 0.019997775554656982\n",
            "Epoch: 3 | Loss: 1.3883075098419795e-06\n",
            "\tgrad:  1.0 2.0 -0.00097911327611655\n",
            "\tgrad:  2.0 4.0 -0.0032907063141465187\n",
            "\tgrad:  3.0 6.0 -0.002662297338247299\n",
            "Epoch: 4 | Loss: 2.461115400365088e-08\n",
            "\tgrad:  1.0 2.0 0.00012947585491929203\n",
            "\tgrad:  2.0 4.0 0.000431585795013234\n",
            "\tgrad:  3.0 6.0 0.00035605719313025475\n",
            "Epoch: 5 | Loss: 4.4019543565809727e-10\n",
            "\tgrad:  1.0 2.0 -1.753307515173219e-05\n",
            "\tgrad:  2.0 4.0 -6.204011879162863e-05\n",
            "\tgrad:  3.0 6.0 -5.6645349104655907e-05\n",
            "Epoch: 6 | Loss: 1.1141310096718371e-11\n",
            "\tgrad:  1.0 2.0 4.046098183607683e-06\n",
            "\tgrad:  2.0 4.0 1.618439273443073e-05\n",
            "\tgrad:  3.0 6.0 1.6184390915441327e-05\n",
            "Epoch: 7 | Loss: 9.094947017729282e-13\n",
            "\tgrad:  1.0 2.0 -6.743495646333031e-07\n",
            "\tgrad:  2.0 4.0 -2.6973982585332124e-06\n",
            "\tgrad:  3.0 6.0 -8.092194548225962e-06\n",
            "Epoch: 8 | Loss: 2.2737367544323206e-13\n",
            "\tgrad:  1.0 2.0 1.348699242953444e-06\n",
            "\tgrad:  2.0 4.0 5.394796971813776e-06\n",
            "\tgrad:  3.0 6.0 1.6184390915441327e-05\n",
            "Epoch: 9 | Loss: 9.094947017729282e-13\n",
            "Prediction (after training) 4 5.656854152679443\n"
          ],
          "name": "stdout"
        }
      ]
    }
  ]
}